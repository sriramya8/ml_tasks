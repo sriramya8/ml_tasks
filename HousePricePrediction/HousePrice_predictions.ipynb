{
  "nbformat": 4,
  "nbformat_minor": 0,
  "metadata": {
    "colab": {
      "provenance": []
    },
    "kernelspec": {
      "name": "python3",
      "display_name": "Python 3"
    },
    "language_info": {
      "name": "python"
    }
  },
  "cells": [
    {
      "cell_type": "markdown",
      "source": [
        "Import Packages"
      ],
      "metadata": {
        "id": "824RWvqiIY4V"
      }
    },
    {
      "cell_type": "code",
      "execution_count": 56,
      "metadata": {
        "id": "NTHQNPAFHp_9"
      },
      "outputs": [],
      "source": [
        "import numpy as np\n",
        "import pandas as pd\n",
        "import matplotlib.pyplot as plt\n"
      ]
    },
    {
      "cell_type": "markdown",
      "source": [
        "Importing Dataset\n",
        "\n"
      ],
      "metadata": {
        "id": "t7tfIpgPInQV"
      }
    },
    {
      "cell_type": "code",
      "source": [
        "dataset=pd.read_csv('Housing.csv')\n",
        "x=dataset.iloc[:,1:].values\n",
        "y=dataset.iloc[:,0].values"
      ],
      "metadata": {
        "id": "Pk5Oj8WyJReh"
      },
      "execution_count": 57,
      "outputs": []
    },
    {
      "cell_type": "code",
      "source": [
        "print(x)"
      ],
      "metadata": {
        "colab": {
          "base_uri": "https://localhost:8080/"
        },
        "id": "FwNFEK2yKBgH",
        "outputId": "9df1e34d-e2db-4f37-8a12-42994ead1bbb"
      },
      "execution_count": 58,
      "outputs": [
        {
          "output_type": "stream",
          "name": "stdout",
          "text": [
            "[[7420 4 2 ... 2 'yes' 'furnished']\n",
            " [8960 4 4 ... 3 'no' 'furnished']\n",
            " [9960 3 2 ... 2 'yes' 'semi-furnished']\n",
            " ...\n",
            " [3620 2 1 ... 0 'no' 'unfurnished']\n",
            " [2910 3 1 ... 0 'no' 'furnished']\n",
            " [3850 3 1 ... 0 'no' 'unfurnished']]\n"
          ]
        }
      ]
    },
    {
      "cell_type": "code",
      "source": [
        "print(y)"
      ],
      "metadata": {
        "id": "nSf982ubKKJA",
        "colab": {
          "base_uri": "https://localhost:8080/"
        },
        "outputId": "af6c64fb-f662-4652-f020-8feffae23d03"
      },
      "execution_count": 59,
      "outputs": [
        {
          "output_type": "stream",
          "name": "stdout",
          "text": [
            "[13300000 12250000 12250000 12215000 11410000 10850000 10150000 10150000\n",
            "  9870000  9800000  9800000  9681000  9310000  9240000  9240000  9100000\n",
            "  9100000  8960000  8890000  8855000  8750000  8680000  8645000  8645000\n",
            "  8575000  8540000  8463000  8400000  8400000  8400000  8400000  8400000\n",
            "  8295000  8190000  8120000  8080940  8043000  7980000  7962500  7910000\n",
            "  7875000  7840000  7700000  7700000  7560000  7560000  7525000  7490000\n",
            "  7455000  7420000  7420000  7420000  7350000  7350000  7350000  7350000\n",
            "  7343000  7245000  7210000  7210000  7140000  7070000  7070000  7035000\n",
            "  7000000  6930000  6930000  6895000  6860000  6790000  6790000  6755000\n",
            "  6720000  6685000  6650000  6650000  6650000  6650000  6650000  6650000\n",
            "  6629000  6615000  6615000  6580000  6510000  6510000  6510000  6475000\n",
            "  6475000  6440000  6440000  6419000  6405000  6300000  6300000  6300000\n",
            "  6300000  6300000  6293000  6265000  6230000  6230000  6195000  6195000\n",
            "  6195000  6160000  6160000  6125000  6107500  6090000  6090000  6090000\n",
            "  6083000  6083000  6020000  6020000  6020000  5950000  5950000  5950000\n",
            "  5950000  5950000  5950000  5950000  5950000  5943000  5880000  5880000\n",
            "  5873000  5873000  5866000  5810000  5810000  5810000  5803000  5775000\n",
            "  5740000  5740000  5740000  5740000  5740000  5652500  5600000  5600000\n",
            "  5600000  5600000  5600000  5600000  5600000  5600000  5600000  5565000\n",
            "  5565000  5530000  5530000  5530000  5523000  5495000  5495000  5460000\n",
            "  5460000  5460000  5460000  5425000  5390000  5383000  5320000  5285000\n",
            "  5250000  5250000  5250000  5250000  5250000  5250000  5250000  5250000\n",
            "  5250000  5243000  5229000  5215000  5215000  5215000  5145000  5145000\n",
            "  5110000  5110000  5110000  5110000  5075000  5040000  5040000  5040000\n",
            "  5040000  5033000  5005000  4970000  4970000  4956000  4935000  4907000\n",
            "  4900000  4900000  4900000  4900000  4900000  4900000  4900000  4900000\n",
            "  4900000  4900000  4900000  4900000  4893000  4893000  4865000  4830000\n",
            "  4830000  4830000  4830000  4795000  4795000  4767000  4760000  4760000\n",
            "  4760000  4753000  4690000  4690000  4690000  4690000  4690000  4690000\n",
            "  4655000  4620000  4620000  4620000  4620000  4620000  4613000  4585000\n",
            "  4585000  4550000  4550000  4550000  4550000  4550000  4550000  4550000\n",
            "  4543000  4543000  4515000  4515000  4515000  4515000  4480000  4480000\n",
            "  4480000  4480000  4480000  4473000  4473000  4473000  4445000  4410000\n",
            "  4410000  4403000  4403000  4403000  4382000  4375000  4340000  4340000\n",
            "  4340000  4340000  4340000  4319000  4305000  4305000  4277000  4270000\n",
            "  4270000  4270000  4270000  4270000  4270000  4235000  4235000  4200000\n",
            "  4200000  4200000  4200000  4200000  4200000  4200000  4200000  4200000\n",
            "  4200000  4200000  4200000  4200000  4200000  4200000  4200000  4200000\n",
            "  4193000  4193000  4165000  4165000  4165000  4130000  4130000  4123000\n",
            "  4098500  4095000  4095000  4095000  4060000  4060000  4060000  4060000\n",
            "  4060000  4025000  4025000  4025000  4007500  4007500  3990000  3990000\n",
            "  3990000  3990000  3990000  3920000  3920000  3920000  3920000  3920000\n",
            "  3920000  3920000  3885000  3885000  3850000  3850000  3850000  3850000\n",
            "  3850000  3850000  3850000  3836000  3815000  3780000  3780000  3780000\n",
            "  3780000  3780000  3780000  3773000  3773000  3773000  3745000  3710000\n",
            "  3710000  3710000  3710000  3710000  3703000  3703000  3675000  3675000\n",
            "  3675000  3675000  3640000  3640000  3640000  3640000  3640000  3640000\n",
            "  3640000  3640000  3640000  3633000  3605000  3605000  3570000  3570000\n",
            "  3570000  3570000  3535000  3500000  3500000  3500000  3500000  3500000\n",
            "  3500000  3500000  3500000  3500000  3500000  3500000  3500000  3500000\n",
            "  3500000  3500000  3500000  3500000  3493000  3465000  3465000  3465000\n",
            "  3430000  3430000  3430000  3430000  3430000  3430000  3423000  3395000\n",
            "  3395000  3395000  3360000  3360000  3360000  3360000  3360000  3360000\n",
            "  3360000  3360000  3353000  3332000  3325000  3325000  3290000  3290000\n",
            "  3290000  3290000  3290000  3290000  3290000  3290000  3255000  3255000\n",
            "  3234000  3220000  3220000  3220000  3220000  3150000  3150000  3150000\n",
            "  3150000  3150000  3150000  3150000  3150000  3150000  3143000  3129000\n",
            "  3118850  3115000  3115000  3115000  3087000  3080000  3080000  3080000\n",
            "  3080000  3045000  3010000  3010000  3010000  3010000  3010000  3010000\n",
            "  3010000  3003000  2975000  2961000  2940000  2940000  2940000  2940000\n",
            "  2940000  2940000  2940000  2940000  2870000  2870000  2870000  2870000\n",
            "  2852500  2835000  2835000  2835000  2800000  2800000  2730000  2730000\n",
            "  2695000  2660000  2660000  2660000  2660000  2660000  2660000  2660000\n",
            "  2653000  2653000  2604000  2590000  2590000  2590000  2520000  2520000\n",
            "  2520000  2485000  2485000  2450000  2450000  2450000  2450000  2450000\n",
            "  2450000  2408000  2380000  2380000  2380000  2345000  2310000  2275000\n",
            "  2275000  2275000  2240000  2233000  2135000  2100000  2100000  2100000\n",
            "  1960000  1890000  1890000  1855000  1820000  1767150  1750000  1750000\n",
            "  1750000]\n"
          ]
        }
      ]
    },
    {
      "cell_type": "markdown",
      "source": [
        "Taking care of missing data"
      ],
      "metadata": {
        "id": "xSoPxSTYKVym"
      }
    },
    {
      "cell_type": "code",
      "source": [
        "from sklearn.impute import SimpleImputer\n",
        "imputer=SimpleImputer(missing_values=np.nan,strategy='mean')\n",
        "imputer.fit(x[:,1:4])\n",
        "x[:,1:4]=imputer.transform(x[:,1:4])\n",
        "imputer.fit(x[:,9:10])\n",
        "x[:,9:10]=imputer.transform(x[:,9:10])"
      ],
      "metadata": {
        "id": "KYsV07AEKN0M"
      },
      "execution_count": 60,
      "outputs": []
    },
    {
      "cell_type": "markdown",
      "source": [
        "Encoding"
      ],
      "metadata": {
        "id": "jSclxtlkP7gX"
      }
    },
    {
      "cell_type": "code",
      "source": [
        "from sklearn.compose import ColumnTransformer\n",
        "from sklearn.preprocessing import OneHotEncoder\n",
        "ct=ColumnTransformer(transformers=[('encoder',OneHotEncoder(),[4,5,6,7,8,10,11])],remainder='passthrough')\n",
        "x=np.array(ct.fit_transform(x))\n"
      ],
      "metadata": {
        "id": "uqbF3-oCP6iG"
      },
      "execution_count": 61,
      "outputs": []
    },
    {
      "cell_type": "code",
      "source": [
        "print(x)"
      ],
      "metadata": {
        "colab": {
          "base_uri": "https://localhost:8080/"
        },
        "id": "29svGAkjWmIe",
        "outputId": "865b2c86-0b0d-42c3-8651-5941bba39269"
      },
      "execution_count": 62,
      "outputs": [
        {
          "output_type": "stream",
          "name": "stdout",
          "text": [
            "[[0.0 1.0 1.0 ... 2.0 3.0 2.0]\n",
            " [0.0 1.0 1.0 ... 4.0 4.0 3.0]\n",
            " [0.0 1.0 1.0 ... 2.0 2.0 2.0]\n",
            " ...\n",
            " [0.0 1.0 1.0 ... 1.0 1.0 0.0]\n",
            " [1.0 0.0 1.0 ... 1.0 1.0 0.0]\n",
            " [0.0 1.0 1.0 ... 1.0 2.0 0.0]]\n"
          ]
        }
      ]
    },
    {
      "cell_type": "markdown",
      "source": [
        "Splitting dataset into training and test sets"
      ],
      "metadata": {
        "id": "4KmcHsc7WtQH"
      }
    },
    {
      "cell_type": "code",
      "source": [
        "from sklearn.model_selection import train_test_split\n",
        "X_train, X_test, y_train, y_test = train_test_split(x, y, test_size = 0.2, random_state = 0)"
      ],
      "metadata": {
        "id": "wpiZ4fbrWqpT"
      },
      "execution_count": 63,
      "outputs": []
    },
    {
      "cell_type": "markdown",
      "source": [
        "Using Multi variable linear regression model"
      ],
      "metadata": {
        "id": "mub4ac5dXG-7"
      }
    },
    {
      "cell_type": "code",
      "source": [
        "from sklearn.linear_model import LinearRegression\n",
        "regressor = LinearRegression()\n",
        "regressor.fit(X_train, y_train)"
      ],
      "metadata": {
        "colab": {
          "base_uri": "https://localhost:8080/",
          "height": 74
        },
        "id": "9fLJjRDoXLDi",
        "outputId": "178eec31-7e7f-4af9-c29f-efc54697591b"
      },
      "execution_count": 64,
      "outputs": [
        {
          "output_type": "execute_result",
          "data": {
            "text/plain": [
              "LinearRegression()"
            ],
            "text/html": [
              "<style>#sk-container-id-2 {color: black;background-color: white;}#sk-container-id-2 pre{padding: 0;}#sk-container-id-2 div.sk-toggleable {background-color: white;}#sk-container-id-2 label.sk-toggleable__label {cursor: pointer;display: block;width: 100%;margin-bottom: 0;padding: 0.3em;box-sizing: border-box;text-align: center;}#sk-container-id-2 label.sk-toggleable__label-arrow:before {content: \"▸\";float: left;margin-right: 0.25em;color: #696969;}#sk-container-id-2 label.sk-toggleable__label-arrow:hover:before {color: black;}#sk-container-id-2 div.sk-estimator:hover label.sk-toggleable__label-arrow:before {color: black;}#sk-container-id-2 div.sk-toggleable__content {max-height: 0;max-width: 0;overflow: hidden;text-align: left;background-color: #f0f8ff;}#sk-container-id-2 div.sk-toggleable__content pre {margin: 0.2em;color: black;border-radius: 0.25em;background-color: #f0f8ff;}#sk-container-id-2 input.sk-toggleable__control:checked~div.sk-toggleable__content {max-height: 200px;max-width: 100%;overflow: auto;}#sk-container-id-2 input.sk-toggleable__control:checked~label.sk-toggleable__label-arrow:before {content: \"▾\";}#sk-container-id-2 div.sk-estimator input.sk-toggleable__control:checked~label.sk-toggleable__label {background-color: #d4ebff;}#sk-container-id-2 div.sk-label input.sk-toggleable__control:checked~label.sk-toggleable__label {background-color: #d4ebff;}#sk-container-id-2 input.sk-hidden--visually {border: 0;clip: rect(1px 1px 1px 1px);clip: rect(1px, 1px, 1px, 1px);height: 1px;margin: -1px;overflow: hidden;padding: 0;position: absolute;width: 1px;}#sk-container-id-2 div.sk-estimator {font-family: monospace;background-color: #f0f8ff;border: 1px dotted black;border-radius: 0.25em;box-sizing: border-box;margin-bottom: 0.5em;}#sk-container-id-2 div.sk-estimator:hover {background-color: #d4ebff;}#sk-container-id-2 div.sk-parallel-item::after {content: \"\";width: 100%;border-bottom: 1px solid gray;flex-grow: 1;}#sk-container-id-2 div.sk-label:hover label.sk-toggleable__label {background-color: #d4ebff;}#sk-container-id-2 div.sk-serial::before {content: \"\";position: absolute;border-left: 1px solid gray;box-sizing: border-box;top: 0;bottom: 0;left: 50%;z-index: 0;}#sk-container-id-2 div.sk-serial {display: flex;flex-direction: column;align-items: center;background-color: white;padding-right: 0.2em;padding-left: 0.2em;position: relative;}#sk-container-id-2 div.sk-item {position: relative;z-index: 1;}#sk-container-id-2 div.sk-parallel {display: flex;align-items: stretch;justify-content: center;background-color: white;position: relative;}#sk-container-id-2 div.sk-item::before, #sk-container-id-2 div.sk-parallel-item::before {content: \"\";position: absolute;border-left: 1px solid gray;box-sizing: border-box;top: 0;bottom: 0;left: 50%;z-index: -1;}#sk-container-id-2 div.sk-parallel-item {display: flex;flex-direction: column;z-index: 1;position: relative;background-color: white;}#sk-container-id-2 div.sk-parallel-item:first-child::after {align-self: flex-end;width: 50%;}#sk-container-id-2 div.sk-parallel-item:last-child::after {align-self: flex-start;width: 50%;}#sk-container-id-2 div.sk-parallel-item:only-child::after {width: 0;}#sk-container-id-2 div.sk-dashed-wrapped {border: 1px dashed gray;margin: 0 0.4em 0.5em 0.4em;box-sizing: border-box;padding-bottom: 0.4em;background-color: white;}#sk-container-id-2 div.sk-label label {font-family: monospace;font-weight: bold;display: inline-block;line-height: 1.2em;}#sk-container-id-2 div.sk-label-container {text-align: center;}#sk-container-id-2 div.sk-container {/* jupyter's `normalize.less` sets `[hidden] { display: none; }` but bootstrap.min.css set `[hidden] { display: none !important; }` so we also need the `!important` here to be able to override the default hidden behavior on the sphinx rendered scikit-learn.org. See: https://github.com/scikit-learn/scikit-learn/issues/21755 */display: inline-block !important;position: relative;}#sk-container-id-2 div.sk-text-repr-fallback {display: none;}</style><div id=\"sk-container-id-2\" class=\"sk-top-container\"><div class=\"sk-text-repr-fallback\"><pre>LinearRegression()</pre><b>In a Jupyter environment, please rerun this cell to show the HTML representation or trust the notebook. <br />On GitHub, the HTML representation is unable to render, please try loading this page with nbviewer.org.</b></div><div class=\"sk-container\" hidden><div class=\"sk-item\"><div class=\"sk-estimator sk-toggleable\"><input class=\"sk-toggleable__control sk-hidden--visually\" id=\"sk-estimator-id-2\" type=\"checkbox\" checked><label for=\"sk-estimator-id-2\" class=\"sk-toggleable__label sk-toggleable__label-arrow\">LinearRegression</label><div class=\"sk-toggleable__content\"><pre>LinearRegression()</pre></div></div></div></div></div>"
            ]
          },
          "metadata": {},
          "execution_count": 64
        }
      ]
    },
    {
      "cell_type": "markdown",
      "source": [
        "Predicting results"
      ],
      "metadata": {
        "id": "bIKLx-drXRNp"
      }
    },
    {
      "cell_type": "code",
      "source": [
        "y_pred = regressor.predict(X_test)\n",
        "np.set_printoptions(precision=2)\n",
        "print(np.concatenate((y_pred.reshape(len(y_pred),1), y_test.reshape(len(y_test),1)),1))"
      ],
      "metadata": {
        "colab": {
          "base_uri": "https://localhost:8080/"
        },
        "id": "SedwRswYXTZd",
        "outputId": "8a993717-eece-44bb-b16d-9343ac4069cd"
      },
      "execution_count": 65,
      "outputs": [
        {
          "output_type": "stream",
          "name": "stdout",
          "text": [
            "[[ 3950288.62  4585000.  ]\n",
            " [ 6173868.82  6083000.  ]\n",
            " [ 4483635.99  4007500.  ]\n",
            " [ 7258732.75  6930000.  ]\n",
            " [ 2836727.58  2940000.  ]\n",
            " [ 7032947.1   6195000.  ]\n",
            " [ 3203851.47  3535000.  ]\n",
            " [ 3270994.01  2940000.  ]\n",
            " [ 3472554.04  3500000.  ]\n",
            " [ 8289978.33  7980000.  ]\n",
            " [ 6605321.63  6755000.  ]\n",
            " [ 3723366.24  3990000.  ]\n",
            " [ 3812376.96  3150000.  ]\n",
            " [ 4548966.85  3290000.  ]\n",
            " [ 4020476.35  4130000.  ]\n",
            " [ 1969836.22  2660000.  ]\n",
            " [ 4057262.98  4410000.  ]\n",
            " [ 3704586.87  3710000.  ]\n",
            " [ 3282767.93  3360000.  ]\n",
            " [ 4609423.65  4270000.  ]\n",
            " [ 5968243.74  5005000.  ]\n",
            " [ 6363698.62  5383000.  ]\n",
            " [ 4751300.32  6440000.  ]\n",
            " [ 2659595.28  1890000.  ]\n",
            " [ 5305573.25  6125000.  ]\n",
            " [ 5680819.59  5460000.  ]\n",
            " [ 5404106.9   5803000.  ]\n",
            " [ 5543050.52  4620000.  ]\n",
            " [ 5768360.48  5530000.  ]\n",
            " [ 5801753.71  5950000.  ]\n",
            " [ 3389277.96  4305000.  ]\n",
            " [ 6399092.03  3640000.  ]\n",
            " [ 7081030.31  5250000.  ]\n",
            " [ 2913042.4   3325000.  ]\n",
            " [ 4498664.01  3703000.  ]\n",
            " [ 5210561.68  4753000.  ]\n",
            " [ 5013457.84  9100000.  ]\n",
            " [ 3707596.71  3500000.  ]\n",
            " [ 2916603.45  3150000.  ]\n",
            " [ 3937761.76  4270000.  ]\n",
            " [ 8041334.2   8960000.  ]\n",
            " [ 4942174.61  4060000.  ]\n",
            " [ 6432605.22  5740000.  ]\n",
            " [ 3511338.78  3129000.  ]\n",
            " [ 3813475.4   3633000.  ]\n",
            " [ 6434856.2   7560000.  ]\n",
            " [ 4447687.03  4620000.  ]\n",
            " [ 2696243.72  3290000.  ]\n",
            " [ 4180018.71  4165000.  ]\n",
            " [ 6455973.26  6650000.  ]\n",
            " [ 4056226.34  4165000.  ]\n",
            " [ 7124571.3   4690000.  ]\n",
            " [ 2530661.68  3150000.  ]\n",
            " [ 3033278.46  3850000.  ]\n",
            " [ 3500830.32  3290000.  ]\n",
            " [ 5119451.02  5075000.  ]\n",
            " [ 7110973.93  6510000.  ]\n",
            " [ 4127705.8   5740000.  ]\n",
            " [ 2970005.37  3780000.  ]\n",
            " [ 4325732.62  4795000.  ]\n",
            " [ 5986119.71  4900000.  ]\n",
            " [ 6824682.69  5460000.  ]\n",
            " [ 3325637.46  3500000.  ]\n",
            " [ 7191804.56  7525000.  ]\n",
            " [ 2609468.55  2835000.  ]\n",
            " [ 5056521.66  5495000.  ]\n",
            " [ 6636269.78  8680000.  ]\n",
            " [ 2565659.89  4200000.  ]\n",
            " [ 3751294.04  4200000.  ]\n",
            " [ 5080427.99  4900000.  ]\n",
            " [ 4281895.69  3332000.  ]\n",
            " [ 7361447.18  6195000.  ]\n",
            " [ 5088033.19  4098500.  ]\n",
            " [ 6022539.93  6650000.  ]\n",
            " [ 4176648.2   3885000.  ]\n",
            " [ 4639478.55  4620000.  ]\n",
            " [ 2898083.35  1960000.  ]\n",
            " [ 7564393.66  6440000.  ]\n",
            " [ 2583102.74  1750000.  ]\n",
            " [ 3764386.73  3605000.  ]\n",
            " [ 4281895.69  3290000.  ]\n",
            " [ 6064669.42  4970000.  ]\n",
            " [ 5199726.51  4613000.  ]\n",
            " [ 5402615.01  3850000.  ]\n",
            " [ 3900783.42  3500000.  ]\n",
            " [ 4206866.27  6107500.  ]\n",
            " [ 4785571.46  3780000.  ]\n",
            " [ 5125782.9   4900000.  ]\n",
            " [ 3843109.12  3570000.  ]\n",
            " [ 4373515.96  4340000.  ]\n",
            " [ 3233779.58  3500000.  ]\n",
            " [ 5800152.86  6300000.  ]\n",
            " [ 3086788.94  3395000.  ]\n",
            " [ 3736808.51  3815000.  ]\n",
            " [ 4475695.33  3920000.  ]\n",
            " [10490600.69 12250000.  ]\n",
            " [ 3044861.09  3080000.  ]\n",
            " [ 7172608.24  9310000.  ]\n",
            " [ 4348859.17  4270000.  ]\n",
            " [ 4508307.37  3780000.  ]\n",
            " [ 6607800.85  5600000.  ]\n",
            " [ 3393091.94  3290000.  ]\n",
            " [ 4545560.49  2380000.  ]\n",
            " [ 3313363.09  5110000.  ]\n",
            " [ 7340959.28  6650000.  ]\n",
            " [ 5235408.6   5810000.  ]\n",
            " [ 4134159.03  4123000.  ]\n",
            " [ 5058911.23  3080000.  ]\n",
            " [ 6279957.32  5530000.  ]]\n"
          ]
        }
      ]
    },
    {
      "cell_type": "markdown",
      "source": [
        "Evaluation"
      ],
      "metadata": {
        "id": "-NzAt-UVdVrB"
      }
    },
    {
      "cell_type": "code",
      "source": [
        "from sklearn.metrics import r2_score, mean_absolute_error\n",
        "\n",
        "y_train_predictions = regressor.predict(X_train)\n",
        "y_test_predictions = regressor.predict(X_test)\n",
        "\n",
        "score = r2_score(y_train, y_train_predictions)\n",
        "mae = mean_absolute_error(y_test, y_test_predictions)\n",
        "\n",
        "print(\"R-squared score:\", score)\n",
        "print(\"Mean Absolute Error:\", mae)"
      ],
      "metadata": {
        "colab": {
          "base_uri": "https://localhost:8080/"
        },
        "id": "5cJfo4nfdU8v",
        "outputId": "499dcd05-fe16-4b95-fa49-9b082690c1eb"
      },
      "execution_count": 66,
      "outputs": [
        {
          "output_type": "stream",
          "name": "stdout",
          "text": [
            "R-squared score: 0.6822529683801706\n",
            "Mean Absolute Error: 716231.11897488\n"
          ]
        }
      ]
    }
  ]
}